{
 "cells": [
  {
   "cell_type": "code",
   "execution_count": 1,
   "id": "c822de0d",
   "metadata": {},
   "outputs": [],
   "source": [
    "import numpy as np\n",
    "import pandas as pd\n",
    "import matplotlib.pyplot as plt\n",
    "import pandas_datareader as data"
   ]
  },
  {
   "cell_type": "code",
   "execution_count": 2,
   "id": "d3ce614c",
   "metadata": {},
   "outputs": [],
   "source": [
    "import math\n",
    "import matplotlib.pyplot as plt\n",
    "import pandas as pd\n",
    "import numpy as np\n",
    "import keras\n",
    "from pandas_datareader import data as pdr\n",
    "import yfinance as yfin\n",
    "yfin.pdr_override()"
   ]
  },
  {
   "cell_type": "code",
   "execution_count": 3,
   "id": "c0fdb092",
   "metadata": {},
   "outputs": [
    {
     "name": "stdout",
     "output_type": "stream",
     "text": [
      "[*********************100%***********************]  1 of 1 completed\n"
     ]
    },
    {
     "data": {
      "text/html": [
       "<div>\n",
       "<style scoped>\n",
       "    .dataframe tbody tr th:only-of-type {\n",
       "        vertical-align: middle;\n",
       "    }\n",
       "\n",
       "    .dataframe tbody tr th {\n",
       "        vertical-align: top;\n",
       "    }\n",
       "\n",
       "    .dataframe thead th {\n",
       "        text-align: right;\n",
       "    }\n",
       "</style>\n",
       "<table border=\"1\" class=\"dataframe\">\n",
       "  <thead>\n",
       "    <tr style=\"text-align: right;\">\n",
       "      <th></th>\n",
       "      <th>Open</th>\n",
       "      <th>High</th>\n",
       "      <th>Low</th>\n",
       "      <th>Close</th>\n",
       "      <th>Adj Close</th>\n",
       "      <th>Volume</th>\n",
       "    </tr>\n",
       "    <tr>\n",
       "      <th>Date</th>\n",
       "      <th></th>\n",
       "      <th></th>\n",
       "      <th></th>\n",
       "      <th></th>\n",
       "      <th></th>\n",
       "      <th></th>\n",
       "    </tr>\n",
       "  </thead>\n",
       "  <tbody>\n",
       "    <tr>\n",
       "      <th>2010-09-20</th>\n",
       "      <td>9.860000</td>\n",
       "      <td>10.135000</td>\n",
       "      <td>9.851786</td>\n",
       "      <td>10.115357</td>\n",
       "      <td>8.585883</td>\n",
       "      <td>658677600</td>\n",
       "    </tr>\n",
       "    <tr>\n",
       "      <th>2010-09-21</th>\n",
       "      <td>10.137857</td>\n",
       "      <td>10.262500</td>\n",
       "      <td>10.099643</td>\n",
       "      <td>10.134643</td>\n",
       "      <td>8.602251</td>\n",
       "      <td>668074400</td>\n",
       "    </tr>\n",
       "    <tr>\n",
       "      <th>2010-09-22</th>\n",
       "      <td>10.096786</td>\n",
       "      <td>10.285000</td>\n",
       "      <td>10.086071</td>\n",
       "      <td>10.276786</td>\n",
       "      <td>8.722903</td>\n",
       "      <td>585289600</td>\n",
       "    </tr>\n",
       "    <tr>\n",
       "      <th>2010-09-23</th>\n",
       "      <td>10.226071</td>\n",
       "      <td>10.455714</td>\n",
       "      <td>10.214286</td>\n",
       "      <td>10.318571</td>\n",
       "      <td>8.758369</td>\n",
       "      <td>786116800</td>\n",
       "    </tr>\n",
       "    <tr>\n",
       "      <th>2010-09-24</th>\n",
       "      <td>10.432143</td>\n",
       "      <td>10.483214</td>\n",
       "      <td>10.376786</td>\n",
       "      <td>10.440000</td>\n",
       "      <td>8.861435</td>\n",
       "      <td>649488000</td>\n",
       "    </tr>\n",
       "  </tbody>\n",
       "</table>\n",
       "</div>"
      ],
      "text/plain": [
       "                 Open       High        Low      Close  Adj Close     Volume\n",
       "Date                                                                        \n",
       "2010-09-20   9.860000  10.135000   9.851786  10.115357   8.585883  658677600\n",
       "2010-09-21  10.137857  10.262500  10.099643  10.134643   8.602251  668074400\n",
       "2010-09-22  10.096786  10.285000  10.086071  10.276786   8.722903  585289600\n",
       "2010-09-23  10.226071  10.455714  10.214286  10.318571   8.758369  786116800\n",
       "2010-09-24  10.432143  10.483214  10.376786  10.440000   8.861435  649488000"
      ]
     },
     "execution_count": 3,
     "metadata": {},
     "output_type": "execute_result"
    }
   ],
   "source": [
    "start='2010-09-18'\n",
    "end='2022-09-18'\n",
    "df=pdr.get_data_yahoo('AAPL',start='2010-09-18',end='2022-09-18')\n",
    "df.head()"
   ]
  },
  {
   "cell_type": "code",
   "execution_count": 4,
   "id": "577f8526",
   "metadata": {},
   "outputs": [
    {
     "data": {
      "text/html": [
       "<div>\n",
       "<style scoped>\n",
       "    .dataframe tbody tr th:only-of-type {\n",
       "        vertical-align: middle;\n",
       "    }\n",
       "\n",
       "    .dataframe tbody tr th {\n",
       "        vertical-align: top;\n",
       "    }\n",
       "\n",
       "    .dataframe thead th {\n",
       "        text-align: right;\n",
       "    }\n",
       "</style>\n",
       "<table border=\"1\" class=\"dataframe\">\n",
       "  <thead>\n",
       "    <tr style=\"text-align: right;\">\n",
       "      <th></th>\n",
       "      <th>Open</th>\n",
       "      <th>High</th>\n",
       "      <th>Low</th>\n",
       "      <th>Close</th>\n",
       "      <th>Adj Close</th>\n",
       "      <th>Volume</th>\n",
       "    </tr>\n",
       "    <tr>\n",
       "      <th>Date</th>\n",
       "      <th></th>\n",
       "      <th></th>\n",
       "      <th></th>\n",
       "      <th></th>\n",
       "      <th></th>\n",
       "      <th></th>\n",
       "    </tr>\n",
       "  </thead>\n",
       "  <tbody>\n",
       "    <tr>\n",
       "      <th>2022-09-12</th>\n",
       "      <td>159.589996</td>\n",
       "      <td>164.259995</td>\n",
       "      <td>159.300003</td>\n",
       "      <td>163.429993</td>\n",
       "      <td>162.466187</td>\n",
       "      <td>104956000</td>\n",
       "    </tr>\n",
       "    <tr>\n",
       "      <th>2022-09-13</th>\n",
       "      <td>159.899994</td>\n",
       "      <td>160.539993</td>\n",
       "      <td>153.369995</td>\n",
       "      <td>153.839996</td>\n",
       "      <td>152.932739</td>\n",
       "      <td>122656600</td>\n",
       "    </tr>\n",
       "    <tr>\n",
       "      <th>2022-09-14</th>\n",
       "      <td>154.789993</td>\n",
       "      <td>157.100006</td>\n",
       "      <td>153.610001</td>\n",
       "      <td>155.309998</td>\n",
       "      <td>154.394073</td>\n",
       "      <td>87965400</td>\n",
       "    </tr>\n",
       "    <tr>\n",
       "      <th>2022-09-15</th>\n",
       "      <td>154.649994</td>\n",
       "      <td>155.240005</td>\n",
       "      <td>151.380005</td>\n",
       "      <td>152.369995</td>\n",
       "      <td>151.471405</td>\n",
       "      <td>90481100</td>\n",
       "    </tr>\n",
       "    <tr>\n",
       "      <th>2022-09-16</th>\n",
       "      <td>151.210007</td>\n",
       "      <td>151.350006</td>\n",
       "      <td>148.369995</td>\n",
       "      <td>150.699997</td>\n",
       "      <td>149.811249</td>\n",
       "      <td>162278800</td>\n",
       "    </tr>\n",
       "  </tbody>\n",
       "</table>\n",
       "</div>"
      ],
      "text/plain": [
       "                  Open        High         Low       Close   Adj Close  \\\n",
       "Date                                                                     \n",
       "2022-09-12  159.589996  164.259995  159.300003  163.429993  162.466187   \n",
       "2022-09-13  159.899994  160.539993  153.369995  153.839996  152.932739   \n",
       "2022-09-14  154.789993  157.100006  153.610001  155.309998  154.394073   \n",
       "2022-09-15  154.649994  155.240005  151.380005  152.369995  151.471405   \n",
       "2022-09-16  151.210007  151.350006  148.369995  150.699997  149.811249   \n",
       "\n",
       "               Volume  \n",
       "Date                   \n",
       "2022-09-12  104956000  \n",
       "2022-09-13  122656600  \n",
       "2022-09-14   87965400  \n",
       "2022-09-15   90481100  \n",
       "2022-09-16  162278800  "
      ]
     },
     "execution_count": 4,
     "metadata": {},
     "output_type": "execute_result"
    }
   ],
   "source": [
    "df.tail()"
   ]
  },
  {
   "cell_type": "code",
   "execution_count": 5,
   "id": "6ffe4326",
   "metadata": {},
   "outputs": [
    {
     "data": {
      "text/html": [
       "<div>\n",
       "<style scoped>\n",
       "    .dataframe tbody tr th:only-of-type {\n",
       "        vertical-align: middle;\n",
       "    }\n",
       "\n",
       "    .dataframe tbody tr th {\n",
       "        vertical-align: top;\n",
       "    }\n",
       "\n",
       "    .dataframe thead th {\n",
       "        text-align: right;\n",
       "    }\n",
       "</style>\n",
       "<table border=\"1\" class=\"dataframe\">\n",
       "  <thead>\n",
       "    <tr style=\"text-align: right;\">\n",
       "      <th></th>\n",
       "      <th>Date</th>\n",
       "      <th>Open</th>\n",
       "      <th>High</th>\n",
       "      <th>Low</th>\n",
       "      <th>Close</th>\n",
       "      <th>Adj Close</th>\n",
       "      <th>Volume</th>\n",
       "    </tr>\n",
       "  </thead>\n",
       "  <tbody>\n",
       "    <tr>\n",
       "      <th>0</th>\n",
       "      <td>2010-09-20</td>\n",
       "      <td>9.860000</td>\n",
       "      <td>10.135000</td>\n",
       "      <td>9.851786</td>\n",
       "      <td>10.115357</td>\n",
       "      <td>8.585883</td>\n",
       "      <td>658677600</td>\n",
       "    </tr>\n",
       "    <tr>\n",
       "      <th>1</th>\n",
       "      <td>2010-09-21</td>\n",
       "      <td>10.137857</td>\n",
       "      <td>10.262500</td>\n",
       "      <td>10.099643</td>\n",
       "      <td>10.134643</td>\n",
       "      <td>8.602251</td>\n",
       "      <td>668074400</td>\n",
       "    </tr>\n",
       "    <tr>\n",
       "      <th>2</th>\n",
       "      <td>2010-09-22</td>\n",
       "      <td>10.096786</td>\n",
       "      <td>10.285000</td>\n",
       "      <td>10.086071</td>\n",
       "      <td>10.276786</td>\n",
       "      <td>8.722903</td>\n",
       "      <td>585289600</td>\n",
       "    </tr>\n",
       "    <tr>\n",
       "      <th>3</th>\n",
       "      <td>2010-09-23</td>\n",
       "      <td>10.226071</td>\n",
       "      <td>10.455714</td>\n",
       "      <td>10.214286</td>\n",
       "      <td>10.318571</td>\n",
       "      <td>8.758369</td>\n",
       "      <td>786116800</td>\n",
       "    </tr>\n",
       "    <tr>\n",
       "      <th>4</th>\n",
       "      <td>2010-09-24</td>\n",
       "      <td>10.432143</td>\n",
       "      <td>10.483214</td>\n",
       "      <td>10.376786</td>\n",
       "      <td>10.440000</td>\n",
       "      <td>8.861435</td>\n",
       "      <td>649488000</td>\n",
       "    </tr>\n",
       "  </tbody>\n",
       "</table>\n",
       "</div>"
      ],
      "text/plain": [
       "        Date       Open       High        Low      Close  Adj Close     Volume\n",
       "0 2010-09-20   9.860000  10.135000   9.851786  10.115357   8.585883  658677600\n",
       "1 2010-09-21  10.137857  10.262500  10.099643  10.134643   8.602251  668074400\n",
       "2 2010-09-22  10.096786  10.285000  10.086071  10.276786   8.722903  585289600\n",
       "3 2010-09-23  10.226071  10.455714  10.214286  10.318571   8.758369  786116800\n",
       "4 2010-09-24  10.432143  10.483214  10.376786  10.440000   8.861435  649488000"
      ]
     },
     "execution_count": 5,
     "metadata": {},
     "output_type": "execute_result"
    }
   ],
   "source": [
    "df=df.reset_index()\n",
    "df.head()"
   ]
  },
  {
   "cell_type": "code",
   "execution_count": 6,
   "id": "84c11915",
   "metadata": {},
   "outputs": [
    {
     "data": {
      "text/html": [
       "<div>\n",
       "<style scoped>\n",
       "    .dataframe tbody tr th:only-of-type {\n",
       "        vertical-align: middle;\n",
       "    }\n",
       "\n",
       "    .dataframe tbody tr th {\n",
       "        vertical-align: top;\n",
       "    }\n",
       "\n",
       "    .dataframe thead th {\n",
       "        text-align: right;\n",
       "    }\n",
       "</style>\n",
       "<table border=\"1\" class=\"dataframe\">\n",
       "  <thead>\n",
       "    <tr style=\"text-align: right;\">\n",
       "      <th></th>\n",
       "      <th>Open</th>\n",
       "      <th>High</th>\n",
       "      <th>Low</th>\n",
       "      <th>Close</th>\n",
       "      <th>Volume</th>\n",
       "    </tr>\n",
       "  </thead>\n",
       "  <tbody>\n",
       "    <tr>\n",
       "      <th>0</th>\n",
       "      <td>9.860000</td>\n",
       "      <td>10.135000</td>\n",
       "      <td>9.851786</td>\n",
       "      <td>10.115357</td>\n",
       "      <td>658677600</td>\n",
       "    </tr>\n",
       "    <tr>\n",
       "      <th>1</th>\n",
       "      <td>10.137857</td>\n",
       "      <td>10.262500</td>\n",
       "      <td>10.099643</td>\n",
       "      <td>10.134643</td>\n",
       "      <td>668074400</td>\n",
       "    </tr>\n",
       "    <tr>\n",
       "      <th>2</th>\n",
       "      <td>10.096786</td>\n",
       "      <td>10.285000</td>\n",
       "      <td>10.086071</td>\n",
       "      <td>10.276786</td>\n",
       "      <td>585289600</td>\n",
       "    </tr>\n",
       "    <tr>\n",
       "      <th>3</th>\n",
       "      <td>10.226071</td>\n",
       "      <td>10.455714</td>\n",
       "      <td>10.214286</td>\n",
       "      <td>10.318571</td>\n",
       "      <td>786116800</td>\n",
       "    </tr>\n",
       "    <tr>\n",
       "      <th>4</th>\n",
       "      <td>10.432143</td>\n",
       "      <td>10.483214</td>\n",
       "      <td>10.376786</td>\n",
       "      <td>10.440000</td>\n",
       "      <td>649488000</td>\n",
       "    </tr>\n",
       "  </tbody>\n",
       "</table>\n",
       "</div>"
      ],
      "text/plain": [
       "        Open       High        Low      Close     Volume\n",
       "0   9.860000  10.135000   9.851786  10.115357  658677600\n",
       "1  10.137857  10.262500  10.099643  10.134643  668074400\n",
       "2  10.096786  10.285000  10.086071  10.276786  585289600\n",
       "3  10.226071  10.455714  10.214286  10.318571  786116800\n",
       "4  10.432143  10.483214  10.376786  10.440000  649488000"
      ]
     },
     "execution_count": 6,
     "metadata": {},
     "output_type": "execute_result"
    }
   ],
   "source": [
    "df=df.drop(['Date','Adj Close'],axis=1)\n",
    "df.head()"
   ]
  },
  {
   "cell_type": "code",
   "execution_count": 7,
   "id": "3e36cd07",
   "metadata": {},
   "outputs": [
    {
     "data": {
      "text/plain": [
       "[<matplotlib.lines.Line2D at 0x19b3da28310>]"
      ]
     },
     "execution_count": 7,
     "metadata": {},
     "output_type": "execute_result"
    },
    {
     "data": {
      "image/png": "[encoded data removed]",
      "text/plain": [
       "<Figure size 640x480 with 1 Axes>"
      ]
     },
     "metadata": {},
     "output_type": "display_data"
    }
   ],
   "source": [
    "plt.plot(df.Close)"
   ]
  },
  {
   "cell_type": "code",
   "execution_count": 8,
   "id": "a1106281",
   "metadata": {},
   "outputs": [
    {
     "data": {
      "text/html": [
       "<div>\n",
       "<style scoped>\n",
       "    .dataframe tbody tr th:only-of-type {\n",
       "        vertical-align: middle;\n",
       "    }\n",
       "\n",
       "    .dataframe tbody tr th {\n",
       "        vertical-align: top;\n",
       "    }\n",
       "\n",
       "    .dataframe thead th {\n",
       "        text-align: right;\n",
       "    }\n",
       "</style>\n",
       "<table border=\"1\" class=\"dataframe\">\n",
       "  <thead>\n",
       "    <tr style=\"text-align: right;\">\n",
       "      <th></th>\n",
       "      <th>Open</th>\n",
       "      <th>High</th>\n",
       "      <th>Low</th>\n",
       "      <th>Close</th>\n",
       "      <th>Volume</th>\n",
       "    </tr>\n",
       "  </thead>\n",
       "  <tbody>\n",
       "    <tr>\n",
       "      <th>0</th>\n",
       "      <td>9.860000</td>\n",
       "      <td>10.135000</td>\n",
       "      <td>9.851786</td>\n",
       "      <td>10.115357</td>\n",
       "      <td>658677600</td>\n",
       "    </tr>\n",
       "    <tr>\n",
       "      <th>1</th>\n",
       "      <td>10.137857</td>\n",
       "      <td>10.262500</td>\n",
       "      <td>10.099643</td>\n",
       "      <td>10.134643</td>\n",
       "      <td>668074400</td>\n",
       "    </tr>\n",
       "    <tr>\n",
       "      <th>2</th>\n",
       "      <td>10.096786</td>\n",
       "      <td>10.285000</td>\n",
       "      <td>10.086071</td>\n",
       "      <td>10.276786</td>\n",
       "      <td>585289600</td>\n",
       "    </tr>\n",
       "    <tr>\n",
       "      <th>3</th>\n",
       "      <td>10.226071</td>\n",
       "      <td>10.455714</td>\n",
       "      <td>10.214286</td>\n",
       "      <td>10.318571</td>\n",
       "      <td>786116800</td>\n",
       "    </tr>\n",
       "    <tr>\n",
       "      <th>4</th>\n",
       "      <td>10.432143</td>\n",
       "      <td>10.483214</td>\n",
       "      <td>10.376786</td>\n",
       "      <td>10.440000</td>\n",
       "      <td>649488000</td>\n",
       "    </tr>\n",
       "    <tr>\n",
       "      <th>...</th>\n",
       "      <td>...</td>\n",
       "      <td>...</td>\n",
       "      <td>...</td>\n",
       "      <td>...</td>\n",
       "      <td>...</td>\n",
       "    </tr>\n",
       "    <tr>\n",
       "      <th>3015</th>\n",
       "      <td>159.589996</td>\n",
       "      <td>164.259995</td>\n",
       "      <td>159.300003</td>\n",
       "      <td>163.429993</td>\n",
       "      <td>104956000</td>\n",
       "    </tr>\n",
       "    <tr>\n",
       "      <th>3016</th>\n",
       "      <td>159.899994</td>\n",
       "      <td>160.539993</td>\n",
       "      <td>153.369995</td>\n",
       "      <td>153.839996</td>\n",
       "      <td>122656600</td>\n",
       "    </tr>\n",
       "    <tr>\n",
       "      <th>3017</th>\n",
       "      <td>154.789993</td>\n",
       "      <td>157.100006</td>\n",
       "      <td>153.610001</td>\n",
       "      <td>155.309998</td>\n",
       "      <td>87965400</td>\n",
       "    </tr>\n",
       "    <tr>\n",
       "      <th>3018</th>\n",
       "      <td>154.649994</td>\n",
       "      <td>155.240005</td>\n",
       "      <td>151.380005</td>\n",
       "      <td>152.369995</td>\n",
       "      <td>90481100</td>\n",
       "    </tr>\n",
       "    <tr>\n",
       "      <th>3019</th>\n",
       "      <td>151.210007</td>\n",
       "      <td>151.350006</td>\n",
       "      <td>148.369995</td>\n",
       "      <td>150.699997</td>\n",
       "      <td>162278800</td>\n",
       "    </tr>\n",
       "  </tbody>\n",
       "</table>\n",
       "<p>3020 rows × 5 columns</p>\n",
       "</div>"
      ],
      "text/plain": [
       "            Open        High         Low       Close     Volume\n",
       "0       9.860000   10.135000    9.851786   10.115357  658677600\n",
       "1      10.137857   10.262500   10.099643   10.134643  668074400\n",
       "2      10.096786   10.285000   10.086071   10.276786  585289600\n",
       "3      10.226071   10.455714   10.214286   10.318571  786116800\n",
       "4      10.432143   10.483214   10.376786   10.440000  649488000\n",
       "...          ...         ...         ...         ...        ...\n",
       "3015  159.589996  164.259995  159.300003  163.429993  104956000\n",
       "3016  159.899994  160.539993  153.369995  153.839996  122656600\n",
       "3017  154.789993  157.100006  153.610001  155.309998   87965400\n",
       "3018  154.649994  155.240005  151.380005  152.369995   90481100\n",
       "3019  151.210007  151.350006  148.369995  150.699997  162278800\n",
       "\n",
       "[3020 rows x 5 columns]"
      ]
     },
     "execution_count": 8,
     "metadata": {},
     "output_type": "execute_result"
    }
   ],
   "source": [
    "df"
   ]
  },
  {
   "cell_type": "code",
   "execution_count": 9,
   "id": "3cff0821",
   "metadata": {},
   "outputs": [
    {
     "data": {
      "text/plain": [
       "0            NaN\n",
       "1            NaN\n",
       "2            NaN\n",
       "3            NaN\n",
       "4            NaN\n",
       "          ...   \n",
       "3015    152.7708\n",
       "3016    152.6369\n",
       "3017    152.5258\n",
       "3018    152.4316\n",
       "3019    152.3098\n",
       "Name: Close, Length: 3020, dtype: float64"
      ]
     },
     "execution_count": 9,
     "metadata": {},
     "output_type": "execute_result"
    }
   ],
   "source": [
    "ma100=df.Close.rolling(100).mean()\n",
    "ma100"
   ]
  },
  {
   "cell_type": "code",
   "execution_count": 10,
   "id": "436d246f",
   "metadata": {},
   "outputs": [
    {
     "data": {
      "text/plain": [
       "[<matplotlib.lines.Line2D at 0x19b3dadd910>]"
      ]
     },
     "execution_count": 10,
     "metadata": {},
     "output_type": "execute_result"
    },
    {
     "data": {
      "image/png": "[encoded data removed]",
      "text/plain": [
       "<Figure size 1200x600 with 1 Axes>"
      ]
     },
     "metadata": {},
     "output_type": "display_data"
    }
   ],
   "source": [
    "plt.figure(figsize=(12,6))\n",
    "plt.plot(df.Close)\n",
    "plt.plot(ma100,'r')"
   ]
  },
  {
   "cell_type": "code",
   "execution_count": 11,
   "id": "1fd005ef",
   "metadata": {},
   "outputs": [
    {
     "data": {
      "text/plain": [
       "(3020, 5)"
      ]
     },
     "execution_count": 11,
     "metadata": {},
     "output_type": "execute_result"
    }
   ],
   "source": [
    "df.shape"
   ]
  },
  {
   "cell_type": "code",
   "execution_count": 12,
   "id": "6b49ba5f",
   "metadata": {},
   "outputs": [
    {
     "name": "stdout",
     "output_type": "stream",
     "text": [
      "(2114, 1)\n",
      "(906, 1)\n"
     ]
    }
   ],
   "source": [
    "#Splitting Data into Training and Testing\n",
    "\n",
    "data_training=pd.DataFrame(df['Close'][0:int(len(df)*0.70)])\n",
    "data_testing=pd.DataFrame(df['Close'][int(len(df)*0.70):int(len(df))])\n",
    "print(data_training.shape)\n",
    "print(data_testing.shape)"
   ]
  },
  {
   "cell_type": "code",
   "execution_count": 13,
   "id": "5aed1451",
   "metadata": {},
   "outputs": [
    {
     "data": {
      "text/html": [
       "<div>\n",
       "<style scoped>\n",
       "    .dataframe tbody tr th:only-of-type {\n",
       "        vertical-align: middle;\n",
       "    }\n",
       "\n",
       "    .dataframe tbody tr th {\n",
       "        vertical-align: top;\n",
       "    }\n",
       "\n",
       "    .dataframe thead th {\n",
       "        text-align: right;\n",
       "    }\n",
       "</style>\n",
       "<table border=\"1\" class=\"dataframe\">\n",
       "  <thead>\n",
       "    <tr style=\"text-align: right;\">\n",
       "      <th></th>\n",
       "      <th>Close</th>\n",
       "    </tr>\n",
       "  </thead>\n",
       "  <tbody>\n",
       "    <tr>\n",
       "      <th>0</th>\n",
       "      <td>10.115357</td>\n",
       "    </tr>\n",
       "    <tr>\n",
       "      <th>1</th>\n",
       "      <td>10.134643</td>\n",
       "    </tr>\n",
       "    <tr>\n",
       "      <th>2</th>\n",
       "      <td>10.276786</td>\n",
       "    </tr>\n",
       "    <tr>\n",
       "      <th>3</th>\n",
       "      <td>10.318571</td>\n",
       "    </tr>\n",
       "    <tr>\n",
       "      <th>4</th>\n",
       "      <td>10.440000</td>\n",
       "    </tr>\n",
       "  </tbody>\n",
       "</table>\n",
       "</div>"
      ],
      "text/plain": [
       "       Close\n",
       "0  10.115357\n",
       "1  10.134643\n",
       "2  10.276786\n",
       "3  10.318571\n",
       "4  10.440000"
      ]
     },
     "execution_count": 13,
     "metadata": {},
     "output_type": "execute_result"
    }
   ],
   "source": [
    "data_training.head()"
   ]
  },
  {
   "cell_type": "code",
   "execution_count": 14,
   "id": "1a3ddb6b",
   "metadata": {},
   "outputs": [
    {
     "data": {
      "text/html": [
       "<div>\n",
       "<style scoped>\n",
       "    .dataframe tbody tr th:only-of-type {\n",
       "        vertical-align: middle;\n",
       "    }\n",
       "\n",
       "    .dataframe tbody tr th {\n",
       "        vertical-align: top;\n",
       "    }\n",
       "\n",
       "    .dataframe thead th {\n",
       "        text-align: right;\n",
       "    }\n",
       "</style>\n",
       "<table border=\"1\" class=\"dataframe\">\n",
       "  <thead>\n",
       "    <tr style=\"text-align: right;\">\n",
       "      <th></th>\n",
       "      <th>Close</th>\n",
       "    </tr>\n",
       "  </thead>\n",
       "  <tbody>\n",
       "    <tr>\n",
       "      <th>2114</th>\n",
       "      <td>42.544998</td>\n",
       "    </tr>\n",
       "    <tr>\n",
       "      <th>2115</th>\n",
       "      <td>42.700001</td>\n",
       "    </tr>\n",
       "    <tr>\n",
       "      <th>2116</th>\n",
       "      <td>42.605000</td>\n",
       "    </tr>\n",
       "    <tr>\n",
       "      <th>2117</th>\n",
       "      <td>42.732498</td>\n",
       "    </tr>\n",
       "    <tr>\n",
       "      <th>2118</th>\n",
       "      <td>43.007500</td>\n",
       "    </tr>\n",
       "  </tbody>\n",
       "</table>\n",
       "</div>"
      ],
      "text/plain": [
       "          Close\n",
       "2114  42.544998\n",
       "2115  42.700001\n",
       "2116  42.605000\n",
       "2117  42.732498\n",
       "2118  43.007500"
      ]
     },
     "execution_count": 14,
     "metadata": {},
     "output_type": "execute_result"
    }
   ],
   "source": [
    "data_testing.head()"
   ]
  },
  {
   "cell_type": "code",
   "execution_count": 15,
   "id": "4c38e954",
   "metadata": {},
   "outputs": [
    {
     "data": {
      "text/html": [
       "<div>\n",
       "<style scoped>\n",
       "    .dataframe tbody tr th:only-of-type {\n",
       "        vertical-align: middle;\n",
       "    }\n",
       "\n",
       "    .dataframe tbody tr th {\n",
       "        vertical-align: top;\n",
       "    }\n",
       "\n",
       "    .dataframe thead th {\n",
       "        text-align: right;\n",
       "    }\n",
       "</style>\n",
       "<table border=\"1\" class=\"dataframe\">\n",
       "  <thead>\n",
       "    <tr style=\"text-align: right;\">\n",
       "      <th></th>\n",
       "      <th>Close</th>\n",
       "    </tr>\n",
       "  </thead>\n",
       "  <tbody>\n",
       "    <tr>\n",
       "      <th>2109</th>\n",
       "      <td>43.560001</td>\n",
       "    </tr>\n",
       "    <tr>\n",
       "      <th>2110</th>\n",
       "      <td>42.735001</td>\n",
       "    </tr>\n",
       "    <tr>\n",
       "      <th>2111</th>\n",
       "      <td>42.602501</td>\n",
       "    </tr>\n",
       "    <tr>\n",
       "      <th>2112</th>\n",
       "      <td>42.357498</td>\n",
       "    </tr>\n",
       "    <tr>\n",
       "      <th>2113</th>\n",
       "      <td>42.722500</td>\n",
       "    </tr>\n",
       "  </tbody>\n",
       "</table>\n",
       "</div>"
      ],
      "text/plain": [
       "          Close\n",
       "2109  43.560001\n",
       "2110  42.735001\n",
       "2111  42.602501\n",
       "2112  42.357498\n",
       "2113  42.722500"
      ]
     },
     "execution_count": 15,
     "metadata": {},
     "output_type": "execute_result"
    }
   ],
   "source": [
    "data_training.tail()"
   ]
  },
  {
   "cell_type": "code",
   "execution_count": 16,
   "id": "416fd84b",
   "metadata": {},
   "outputs": [
    {
     "data": {
      "text/html": [
       "<div>\n",
       "<style scoped>\n",
       "    .dataframe tbody tr th:only-of-type {\n",
       "        vertical-align: middle;\n",
       "    }\n",
       "\n",
       "    .dataframe tbody tr th {\n",
       "        vertical-align: top;\n",
       "    }\n",
       "\n",
       "    .dataframe thead th {\n",
       "        text-align: right;\n",
       "    }\n",
       "</style>\n",
       "<table border=\"1\" class=\"dataframe\">\n",
       "  <thead>\n",
       "    <tr style=\"text-align: right;\">\n",
       "      <th></th>\n",
       "      <th>Close</th>\n",
       "    </tr>\n",
       "  </thead>\n",
       "  <tbody>\n",
       "    <tr>\n",
       "      <th>3015</th>\n",
       "      <td>163.429993</td>\n",
       "    </tr>\n",
       "    <tr>\n",
       "      <th>3016</th>\n",
       "      <td>153.839996</td>\n",
       "    </tr>\n",
       "    <tr>\n",
       "      <th>3017</th>\n",
       "      <td>155.309998</td>\n",
       "    </tr>\n",
       "    <tr>\n",
       "      <th>3018</th>\n",
       "      <td>152.369995</td>\n",
       "    </tr>\n",
       "    <tr>\n",
       "      <th>3019</th>\n",
       "      <td>150.699997</td>\n",
       "    </tr>\n",
       "  </tbody>\n",
       "</table>\n",
       "</div>"
      ],
      "text/plain": [
       "           Close\n",
       "3015  163.429993\n",
       "3016  153.839996\n",
       "3017  155.309998\n",
       "3018  152.369995\n",
       "3019  150.699997"
      ]
     },
     "execution_count": 16,
     "metadata": {},
     "output_type": "execute_result"
    }
   ],
   "source": [
    "data_testing.tail()"
   ]
  },
  {
   "cell_type": "code",
   "execution_count": 17,
   "id": "a662df52",
   "metadata": {},
   "outputs": [],
   "source": [
    "from sklearn.preprocessing import MinMaxScaler\n",
    "scaler=MinMaxScaler(feature_range=(0,1))"
   ]
  },
  {
   "cell_type": "code",
   "execution_count": 18,
   "id": "c10d6500",
   "metadata": {},
   "outputs": [
    {
     "data": {
      "text/plain": [
       "array([[0.00341047],\n",
       "       [0.0038117 ],\n",
       "       [0.00676894],\n",
       "       ...,\n",
       "       [0.6792956 ],\n",
       "       [0.67419839],\n",
       "       [0.68179214]])"
      ]
     },
     "execution_count": 18,
     "metadata": {},
     "output_type": "execute_result"
    }
   ],
   "source": [
    "data_training_array=scaler.fit_transform(data_training)\n",
    "data_training_array"
   ]
  },
  {
   "cell_type": "code",
   "execution_count": 19,
   "id": "67f9ddf6",
   "metadata": {},
   "outputs": [
    {
     "data": {
      "text/plain": [
       "(2114, 1)"
      ]
     },
     "execution_count": 19,
     "metadata": {},
     "output_type": "execute_result"
    }
   ],
   "source": [
    "data_training_array.shape"
   ]
  },
  {
   "cell_type": "code",
   "execution_count": 20,
   "id": "d5d7f9f0",
   "metadata": {},
   "outputs": [],
   "source": [
    "x_train=[]\n",
    "y_train=[]\n",
    "\n",
    "for i in range(100,data_training_array.shape[0]):\n",
    "    x_train.append(data_training_array[i-100:i])\n",
    "    y_train.append(data_training_array[i,0])\n",
    "    \n",
    "x_train,y_train=np.array(x_train),np.array(y_train) \n",
    "    "
   ]
  },
  {
   "cell_type": "code",
   "execution_count": null,
   "id": "cf1dc730",
   "metadata": {},
   "outputs": [],
   "source": []
  }
 ],
 "metadata": {
  "kernelspec": {
   "display_name": "Python 3 (ipykernel)",
   "language": "python",
   "name": "python3"
  },
  "language_info": {
   "codemirror_mode": {
    "name": "ipython",
    "version": 3
   },
   "file_extension": ".py",
   "mimetype": "text/x-python",
   "name": "python",
   "nbconvert_exporter": "python",
   "pygments_lexer": "ipython3",
   "version": "3.11.4"
  }
 },
 "nbformat": 4,
 "nbformat_minor": 5
}
