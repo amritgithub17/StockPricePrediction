{
 "cells": [
  {
   "cell_type": "code",
   "execution_count": 1,
   "id": "c8cd119e",
   "metadata": {},
   "outputs": [],
   "source": [
    "import numpy as np\n",
    "import pandas as pd\n",
    "import matplotlib.pyplot as plt\n",
    "from pandas_datareader import data as pdr\n",
    "import yfinance as yfin\n",
    "from sklearn.preprocessing import MinMaxScaler\n",
    "from keras.layers import Dense, Dropout, LSTM\n",
    "from keras.models import Sequential\n",
    "from statsmodels.tsa.arima_model import ARIMA"
   ]
  },
  {
   "cell_type": "code",
   "execution_count": 2,
   "id": "be779c8a",
   "metadata": {},
   "outputs": [
    {
     "name": "stdout",
     "output_type": "stream",
     "text": [
      "[*********************100%***********************]  1 of 1 completed\n"
     ]
    }
   ],
   "source": [
    "yfin.pdr_override()\n",
    "start = '2010-09-18'\n",
    "end = '2022-09-18'\n",
    "df = pdr.get_data_yahoo('AAPL', start=start, end=end)\n",
    "df = df.reset_index()\n",
    "df = df.drop(['Date', 'Adj Close'], axis=1)"
   ]
  },
  {
   "cell_type": "code",
   "execution_count": 3,
   "id": "489ae080",
   "metadata": {},
   "outputs": [],
   "source": [
    "ma100 = df.Close.rolling(100).mean()\n",
    "ma200 = df.Close.rolling(200).mean()"
   ]
  },
  {
   "cell_type": "code",
   "execution_count": 4,
   "id": "3f720c52",
   "metadata": {},
   "outputs": [],
   "source": [
    "data_training = pd.DataFrame(df['Close'][0:int(len(df) * 0.70)])\n",
    "data_testing = pd.DataFrame(df['Close'][int(len(df) * 0.70):int(len(df))])\n",
    "\n",
    "scaler = MinMaxScaler(feature_range=(0, 1))\n",
    "data_training_array = scaler.fit_transform(data_training)\n",
    "data_testing_array = scaler.transform(data_testing)"
   ]
  },
  {
   "cell_type": "code",
   "execution_count": null,
   "id": "6b420ff1",
   "metadata": {},
   "outputs": [],
   "source": []
  }
 ],
 "metadata": {
  "kernelspec": {
   "display_name": "Python 3 (ipykernel)",
   "language": "python",
   "name": "python3"
  },
  "language_info": {
   "codemirror_mode": {
    "name": "ipython",
    "version": 3
   },
   "file_extension": ".py",
   "mimetype": "text/x-python",
   "name": "python",
   "nbconvert_exporter": "python",
   "pygments_lexer": "ipython3",
   "version": "3.11.4"
  }
 },
 "nbformat": 4,
 "nbformat_minor": 5
}
